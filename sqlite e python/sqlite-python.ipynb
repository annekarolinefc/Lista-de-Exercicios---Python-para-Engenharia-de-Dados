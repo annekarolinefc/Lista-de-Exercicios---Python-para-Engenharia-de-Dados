{
 "cells": [
  {
   "attachments": {},
   "cell_type": "markdown",
   "metadata": {},
   "source": [
    "### Conexão ao Banco"
   ]
  },
  {
   "attachments": {},
   "cell_type": "markdown",
   "metadata": {},
   "source": [
    "Irá concetar ao banco de dados alunos.db. "
   ]
  },
  {
   "cell_type": "code",
   "execution_count": 5,
   "metadata": {},
   "outputs": [],
   "source": [
    "import sqlite3\n",
    "conexao = sqlite3.connect('aluno.db') #cria o banco de dados aluno.db, caso não exista"
   ]
  },
  {
   "cell_type": "code",
   "execution_count": 6,
   "metadata": {},
   "outputs": [
    {
     "data": {
      "text/plain": [
       "<sqlite3.Connection at 0x1606555ed50>"
      ]
     },
     "execution_count": 6,
     "metadata": {},
     "output_type": "execute_result"
    }
   ],
   "source": [
    "conexao"
   ]
  },
  {
   "attachments": {},
   "cell_type": "markdown",
   "metadata": {},
   "source": [
    "Pode-se gerenciar atraves de: https://sqliteonline.com/"
   ]
  },
  {
   "attachments": {},
   "cell_type": "markdown",
   "metadata": {},
   "source": [
    "### Criação da tabela"
   ]
  },
  {
   "cell_type": "code",
   "execution_count": 7,
   "metadata": {},
   "outputs": [],
   "source": [
    "sql = 'create table aluno('\\\n",
    "'idAluno integer primary key autoincrement,'\\\n",
    "'nome varchar(100) not null,'\\\n",
    "'sexo char)'\n"
   ]
  },
  {
   "cell_type": "code",
   "execution_count": 8,
   "metadata": {},
   "outputs": [
    {
     "data": {
      "text/plain": [
       "'create table aluno(idAluno integer primary key autoincrement,nome varchar(100) not null,sexo char)'"
      ]
     },
     "execution_count": 8,
     "metadata": {},
     "output_type": "execute_result"
    }
   ],
   "source": [
    "sql"
   ]
  },
  {
   "cell_type": "code",
   "execution_count": 9,
   "metadata": {},
   "outputs": [
    {
     "data": {
      "text/plain": [
       "<sqlite3.Cursor at 0x16065504650>"
      ]
     },
     "execution_count": 9,
     "metadata": {},
     "output_type": "execute_result"
    }
   ],
   "source": [
    "cursor = conexao.cursor() #retorna um cursor para manipulação do banco de dados    \n",
    "cursor.execute(sql) #cria a tabela aluno no banco de dados\n"
   ]
  },
  {
   "attachments": {},
   "cell_type": "markdown",
   "metadata": {},
   "source": [
    "### Inserindo dados\n"
   ]
  },
  {
   "cell_type": "code",
   "execution_count": 16,
   "metadata": {},
   "outputs": [
    {
     "data": {
      "text/plain": [
       "<sqlite3.Cursor at 0x16065504650>"
      ]
     },
     "execution_count": 16,
     "metadata": {},
     "output_type": "execute_result"
    }
   ],
   "source": [
    "import numpy as np\n",
    "\n",
    "sql = 'insert into aluno (nome, sexo) values(?,?)'\n",
    "\n",
    "cursor.execute(sql, ['Alexandre', 'M']) #insere apenas um registro"
   ]
  },
  {
   "cell_type": "code",
   "execution_count": 17,
   "metadata": {},
   "outputs": [],
   "source": [
    "\n",
    "alunos = [['Sílvia', 'F'], ['Carlos','M'], ['Maria', 'F'], ['João', np.NaN]]\n",
    "\n",
    "#inserindo diversos registros\n",
    "for aluno in alunos:\n",
    "    cursor.execute(sql, aluno)\n",
    "    \n",
    "conexao.commit()\n"
   ]
  },
  {
   "attachments": {},
   "cell_type": "markdown",
   "metadata": {},
   "source": [
    "### Retornando os dados"
   ]
  },
  {
   "cell_type": "code",
   "execution_count": 18,
   "metadata": {},
   "outputs": [
    {
     "data": {
      "text/plain": [
       "<sqlite3.Cursor at 0x16065504650>"
      ]
     },
     "execution_count": 18,
     "metadata": {},
     "output_type": "execute_result"
    }
   ],
   "source": [
    "sql = 'select * from aluno'\n",
    "\n",
    "cursor.execute(sql)"
   ]
  },
  {
   "cell_type": "code",
   "execution_count": 19,
   "metadata": {},
   "outputs": [
    {
     "name": "stdout",
     "output_type": "stream",
     "text": [
      "[(1, 'Alexandre', 'M'), (2, 'Sílvia', 'F'), (3, 'Carlos', 'M'), (4, 'Maria', 'F'), (5, 'João', None), (6, 'Alexandre', 'M'), (7, 'Sílvia', 'F'), (8, 'Carlos', 'M'), (9, 'Maria', 'F'), (10, 'João', None)]\n"
     ]
    }
   ],
   "source": [
    "alunos = cursor.fetchall()\n",
    "print(alunos)"
   ]
  },
  {
   "cell_type": "code",
   "execution_count": 20,
   "metadata": {},
   "outputs": [
    {
     "name": "stdout",
     "output_type": "stream",
     "text": [
      "(1, 'Alexandre', 'M')\n",
      "(2, 'Sílvia', 'F')\n",
      "(3, 'Carlos', 'M')\n",
      "(4, 'Maria', 'F')\n",
      "(5, 'João', None)\n",
      "(6, 'Alexandre', 'M')\n",
      "(7, 'Sílvia', 'F')\n",
      "(8, 'Carlos', 'M')\n",
      "(9, 'Maria', 'F')\n",
      "(10, 'João', None)\n"
     ]
    }
   ],
   "source": [
    "for aluno in alunos:\n",
    "    print(aluno)\n"
   ]
  },
  {
   "cell_type": "code",
   "execution_count": null,
   "metadata": {},
   "outputs": [],
   "source": []
  },
  {
   "attachments": {},
   "cell_type": "markdown",
   "metadata": {},
   "source": [
    "### Atualizando dados"
   ]
  },
  {
   "cell_type": "code",
   "execution_count": 22,
   "metadata": {},
   "outputs": [],
   "source": [
    "sql = 'update aluno '\\\n",
    "' set nome = ?'\\\n",
    "' where idAluno = ?'\n",
    "\n",
    "cursor.execute(sql, ['Alexandre Siqueira Dias', 1]) \n",
    "\n",
    "conexao.commit()\n"
   ]
  },
  {
   "attachments": {},
   "cell_type": "markdown",
   "metadata": {},
   "source": [
    "### Excluindo dados"
   ]
  },
  {
   "cell_type": "code",
   "execution_count": 21,
   "metadata": {},
   "outputs": [],
   "source": [
    "sql = 'delete from aluno where idAluno = ?'\n",
    "cursor.execute(sql, [1]) \n",
    "conexao.commit()\n"
   ]
  },
  {
   "attachments": {},
   "cell_type": "markdown",
   "metadata": {},
   "source": [
    "### Retornando registros de tabelas do banco de dados com filtro"
   ]
  },
  {
   "cell_type": "code",
   "execution_count": null,
   "metadata": {},
   "outputs": [],
   "source": [
    "sql = 'select * from aluno where idaluno >= ? and sexo = ?'\n",
    "\n",
    "cursor.execute(sql, [2, 'F'])\n",
    "alunos = cursor.fetchall()\n",
    "\n",
    "for id, nome, sexo in alunos: #acessando cada campo individualmente\n",
    "    print(id, nome, sexo)\n"
   ]
  },
  {
   "cell_type": "code",
   "execution_count": null,
   "metadata": {},
   "outputs": [],
   "source": [
    "sql = 'select * from aluno where sexo is null'\n",
    "\n",
    "cursor.execute(sql)\n",
    "alunos = cursor.fetchall()\n",
    "\n",
    "print(alunos)\n"
   ]
  },
  {
   "attachments": {},
   "cell_type": "markdown",
   "metadata": {},
   "source": [
    "### Carregando dados do SQLite para o pandas"
   ]
  },
  {
   "cell_type": "code",
   "execution_count": null,
   "metadata": {},
   "outputs": [],
   "source": [
    "import pandas as pd\n",
    "import sqlite3\n",
    "\n",
    "# Carregando dados do SQLite para o pandas\n",
    "df = pd.read_sql_query(\"SELECT * from aluno\", conexao)\n",
    "df"
   ]
  },
  {
   "cell_type": "code",
   "execution_count": null,
   "metadata": {},
   "outputs": [],
   "source": [
    "import pandas as pd\n",
    "import sqlite3\n",
    "\n",
    "# Carregando dados do SQLite para o pandas\n",
    "df = pd.read_sql_query(\"SELECT * from aluno\", conexao)\n",
    "\n",
    "df['sexo'].value_counts()\n",
    "\n",
    "df['sexo'].value_counts().plot(kind = 'bar')\n"
   ]
  },
  {
   "attachments": {},
   "cell_type": "markdown",
   "metadata": {},
   "source": [
    "### Gravando um dataframe do Pandas em um banco SQLite (dataSet de histórico de temperaturas da cidade de Londres)"
   ]
  },
  {
   "cell_type": "code",
   "execution_count": null,
   "metadata": {},
   "outputs": [],
   "source": [
    "import pandas as pd\n",
    "df = pd.read_csv('https://github.com/alanjones2/dataviz/raw/master/londonweather.csv')\n",
    "\n",
    "import sqlite3\n",
    "conn = sqlite3.connect('weather.db')\n",
    "df.to_sql('temperatura', conn, if_exists='replace') #{'fail', 'replace', 'append'}, default 'fail'\n"
   ]
  },
  {
   "attachments": {},
   "cell_type": "markdown",
   "metadata": {},
   "source": [
    "### Gravando um dataframe do Pandas em um banco SQLite (dataSet de histórico de temperaturas da cidade de Londres) (sem o índice)"
   ]
  },
  {
   "cell_type": "code",
   "execution_count": null,
   "metadata": {},
   "outputs": [],
   "source": [
    "\n",
    "\n",
    "import pandas as pd\n",
    "df = pd.read_csv('https://github.com/alanjones2/dataviz/raw/master/londonweather.csv')\n",
    "\n",
    "import sqlite3\n",
    "conn = sqlite3.connect('weather.db')\n",
    "df.to_sql('temperatura_new', conn, if_exists='replace', index = False) #{'fail', 'replace', 'append'}, default 'fail'\n"
   ]
  },
  {
   "attachments": {},
   "cell_type": "markdown",
   "metadata": {},
   "source": [
    "### Plotando gráfico comparativo das temperaturas máximas nos anos de 2018 e 2017"
   ]
  },
  {
   "cell_type": "code",
   "execution_count": null,
   "metadata": {},
   "outputs": [],
   "source": [
    "\n",
    "\n",
    "y2018 = pd.read_sql('SELECT * FROM temperatura WHERE Year == 2018', conn)\n",
    "y2017 = pd.read_sql('SELECT * FROM temperatura WHERE Year == 2017', conn)\n",
    "\n",
    "ax2018 = y2018.plot(y = 'Tmax')\n",
    "ax = y2017.plot(y='Tmax',color = 'red', ax=ax2018)\n",
    "ax.legend(['2017','2018'])\n"
   ]
  },
  {
   "attachments": {},
   "cell_type": "markdown",
   "metadata": {},
   "source": [
    "### Plotando gráfico das temperaturas no mês de janeiro"
   ]
  },
  {
   "cell_type": "code",
   "execution_count": null,
   "metadata": {},
   "outputs": [],
   "source": [
    "mesJaneiro = pd.read_sql('SELECT year, tmax FROM temperatura WHERE month = 1', conn)\n",
    "#Gráfico de linhas\n",
    "mesJaneiro.plot(y='Tmax', x = 'Year')\n",
    "\n",
    "#Gráfico de barras\n",
    "mesJaneiro.plot(y='Tmax', x = 'Year', kind = 'bar', figsize=(20,5));"
   ]
  },
  {
   "attachments": {},
   "cell_type": "markdown",
   "metadata": {},
   "source": [
    "### Plotando gráfico dos meses de maior temperatura"
   ]
  },
  {
   "cell_type": "code",
   "execution_count": null,
   "metadata": {},
   "outputs": [],
   "source": [
    "import pandas as pd\n",
    "import matplotlib.pyplot as plt\n",
    "mesMaior = pd.read_sql('SELECT Month, tmax FROM temperatura WHERE tmax > 24', conn)\n",
    "\n",
    "mesMaior['Month'].value_counts()\n",
    "mesMaior['Month'].value_counts().plot(kind = 'bar')\n"
   ]
  }
 ],
 "metadata": {
  "kernelspec": {
   "display_name": "base",
   "language": "python",
   "name": "python3"
  },
  "language_info": {
   "codemirror_mode": {
    "name": "ipython",
    "version": 3
   },
   "file_extension": ".py",
   "mimetype": "text/x-python",
   "name": "python",
   "nbconvert_exporter": "python",
   "pygments_lexer": "ipython3",
   "version": "3.9.12"
  },
  "orig_nbformat": 4
 },
 "nbformat": 4,
 "nbformat_minor": 2
}
