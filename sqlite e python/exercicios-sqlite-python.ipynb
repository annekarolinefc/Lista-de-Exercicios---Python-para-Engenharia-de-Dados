{
 "cells": [
  {
   "attachments": {},
   "cell_type": "markdown",
   "metadata": {},
   "source": [
    "# Exercícios – Acessando o SQLite com o Python"
   ]
  },
  {
   "attachments": {},
   "cell_type": "markdown",
   "metadata": {},
   "source": [
    "## 1. Implemente um código Python para:"
   ]
  },
  {
   "attachments": {},
   "cell_type": "markdown",
   "metadata": {},
   "source": [
    "### Criar um banco de dados, DBProdutos.db"
   ]
  },
  {
   "cell_type": "code",
   "execution_count": null,
   "metadata": {
    "vscode": {
     "languageId": "plaintext"
    }
   },
   "outputs": [],
   "source": []
  },
  {
   "attachments": {},
   "cell_type": "markdown",
   "metadata": {},
   "source": [
    "### Criar a tabela produto, com os seguintes campos:"
   ]
  },
  {
   "attachments": {},
   "cell_type": "markdown",
   "metadata": {},
   "source": [
    "- idProduto: integer\n",
    "- nome: varchar(100)\n",
    "- preco: numeric"
   ]
  },
  {
   "cell_type": "code",
   "execution_count": null,
   "metadata": {
    "vscode": {
     "languageId": "plaintext"
    }
   },
   "outputs": [],
   "source": []
  },
  {
   "attachments": {},
   "cell_type": "markdown",
   "metadata": {},
   "source": [
    "### Inserindo dados"
   ]
  },
  {
   "attachments": {},
   "cell_type": "markdown",
   "metadata": {},
   "source": [
    "Inserir 6 linhas na tabela produto, com os dados definidos por você\n",
    "Inserir uma nova linha contendo somente o idProduto e o nome (o preço do produto será NULL)"
   ]
  },
  {
   "attachments": {},
   "cell_type": "markdown",
   "metadata": {},
   "source": [
    "### Listando dados"
   ]
  },
  {
   "attachments": {},
   "cell_type": "markdown",
   "metadata": {},
   "source": [
    "\n",
    "\n",
    "Executar uma instrução SQL para:\n",
    "- Listar o idProduto e nome de todos os produtos da tabela produto\n",
    "\n",
    "- Listar todos os dados dos produtos cujo preço seja maior ou igual a R$ 50,00\n",
    "\n",
    "Carregar os dados da tabela produto para um dataframe Pandas, e exibir os dados do dataframe.\n",
    "\n",
    "Realizar o download do banco de dados DBProdutos.db e abri-lo no site www.sqliteonline.com."
   ]
  },
  {
   "cell_type": "code",
   "execution_count": null,
   "metadata": {
    "vscode": {
     "languageId": "plaintext"
    }
   },
   "outputs": [],
   "source": []
  },
  {
   "attachments": {},
   "cell_type": "markdown",
   "metadata": {},
   "source": [
    "Inserir 6 linhas na tabela produto, com os dados definidos por você\n",
    "Inserir uma nova linha contendo somente o idProduto e o nome (o preço do produto será NULL)"
   ]
  },
  {
   "attachments": {},
   "cell_type": "markdown",
   "metadata": {},
   "source": [
    "2. Carregar os dados do arquivo csv das temperaturas da cidade de Londres. disponível em https://github.com/alanjones2/dataviz/raw/master/londonweather.csv, para uma base de dados SQLite.\n",
    "\n",
    "Copiar os dados para a tabela temperatura, em um banco de dados chamado \n",
    "DBTemperaturasLondres.db\n",
    "\n",
    "Criar uma consulta SQL para retornar o mês, e as temperaturas máximas e mínimas do ano de 2018. Executar a consulta e armazenar os dados em um dataFrame Pandas.\n",
    "Exibir os dados do dataFrame\n",
    "\n",
    "Gravar os dados do dataFrame em uma tabela temperatura_2018, no banco de dados DBTemperaturasLondres.db (desconsiderar o índice do dataframe ao gravar os dados nessa tabela).\n",
    "Plotar um gráfico de linhas exibindo a variação da temperatura mínima durante o ano de 2018, utilizando esse dataFrame.\n",
    "\n",
    "Realizar o download do banco de dados DBTemperaturasLondres.db e abri-lo no site www.sqliteonline.com."
   ]
  }
 ],
 "metadata": {
  "language_info": {
   "name": "python"
  },
  "orig_nbformat": 4
 },
 "nbformat": 4,
 "nbformat_minor": 2
}
