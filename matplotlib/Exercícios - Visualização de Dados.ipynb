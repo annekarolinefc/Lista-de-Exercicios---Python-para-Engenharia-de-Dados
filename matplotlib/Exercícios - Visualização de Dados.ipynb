{
 "cells": [
  {
   "attachments": {},
   "cell_type": "markdown",
   "metadata": {},
   "source": [
    "1.\tCarregue os dados do dataset weather que está em https://github.com/alanjones2/dataviz/raw/master/londonweather.csv,  para um dataframe."
   ]
  },
  {
   "cell_type": "code",
   "execution_count": 1,
   "metadata": {},
   "outputs": [],
   "source": [
    "import pandas as pd \n",
    "url = 'https://github.com/alanjones2/dataviz/raw/master/londonweather.csv'\n",
    "df = pd.read_csv(url)"
   ]
  },
  {
   "attachments": {},
   "cell_type": "markdown",
   "metadata": {},
   "source": [
    "2.\tRealize uma visualização dos dados carregados para ter uma maior compressão das informações que está trabalhando. Exemplo df.head()\n"
   ]
  },
  {
   "cell_type": "code",
   "execution_count": 2,
   "metadata": {},
   "outputs": [
    {
     "data": {
      "text/html": [
       "<div>\n",
       "<style scoped>\n",
       "    .dataframe tbody tr th:only-of-type {\n",
       "        vertical-align: middle;\n",
       "    }\n",
       "\n",
       "    .dataframe tbody tr th {\n",
       "        vertical-align: top;\n",
       "    }\n",
       "\n",
       "    .dataframe thead th {\n",
       "        text-align: right;\n",
       "    }\n",
       "</style>\n",
       "<table border=\"1\" class=\"dataframe\">\n",
       "  <thead>\n",
       "    <tr style=\"text-align: right;\">\n",
       "      <th></th>\n",
       "      <th>Year</th>\n",
       "      <th>Month</th>\n",
       "      <th>Tmax</th>\n",
       "      <th>Tmin</th>\n",
       "      <th>Rain</th>\n",
       "      <th>Sun</th>\n",
       "    </tr>\n",
       "  </thead>\n",
       "  <tbody>\n",
       "    <tr>\n",
       "      <th>0</th>\n",
       "      <td>1957</td>\n",
       "      <td>1</td>\n",
       "      <td>8.7</td>\n",
       "      <td>2.7</td>\n",
       "      <td>39.5</td>\n",
       "      <td>53.0</td>\n",
       "    </tr>\n",
       "    <tr>\n",
       "      <th>1</th>\n",
       "      <td>1957</td>\n",
       "      <td>2</td>\n",
       "      <td>9.0</td>\n",
       "      <td>2.9</td>\n",
       "      <td>69.8</td>\n",
       "      <td>64.9</td>\n",
       "    </tr>\n",
       "    <tr>\n",
       "      <th>2</th>\n",
       "      <td>1957</td>\n",
       "      <td>3</td>\n",
       "      <td>13.9</td>\n",
       "      <td>5.7</td>\n",
       "      <td>25.4</td>\n",
       "      <td>96.7</td>\n",
       "    </tr>\n",
       "    <tr>\n",
       "      <th>3</th>\n",
       "      <td>1957</td>\n",
       "      <td>4</td>\n",
       "      <td>14.2</td>\n",
       "      <td>5.2</td>\n",
       "      <td>5.7</td>\n",
       "      <td>169.6</td>\n",
       "    </tr>\n",
       "    <tr>\n",
       "      <th>4</th>\n",
       "      <td>1957</td>\n",
       "      <td>5</td>\n",
       "      <td>16.2</td>\n",
       "      <td>6.5</td>\n",
       "      <td>21.3</td>\n",
       "      <td>195.0</td>\n",
       "    </tr>\n",
       "  </tbody>\n",
       "</table>\n",
       "</div>"
      ],
      "text/plain": [
       "   Year  Month  Tmax  Tmin  Rain    Sun\n",
       "0  1957      1   8.7   2.7  39.5   53.0\n",
       "1  1957      2   9.0   2.9  69.8   64.9\n",
       "2  1957      3  13.9   5.7  25.4   96.7\n",
       "3  1957      4  14.2   5.2   5.7  169.6\n",
       "4  1957      5  16.2   6.5  21.3  195.0"
      ]
     },
     "execution_count": 2,
     "metadata": {},
     "output_type": "execute_result"
    }
   ],
   "source": [
    "df.head()"
   ]
  },
  {
   "attachments": {},
   "cell_type": "markdown",
   "metadata": {},
   "source": [
    "3.\tSepare os dados correspondentes aos últimos 10 anos registrados no dataset."
   ]
  },
  {
   "cell_type": "code",
   "execution_count": 3,
   "metadata": {},
   "outputs": [
    {
     "data": {
      "text/plain": [
       "2019"
      ]
     },
     "execution_count": 3,
     "metadata": {},
     "output_type": "execute_result"
    }
   ],
   "source": [
    "ano_maximo = df['Year'].max()\n",
    "ano_maximo"
   ]
  },
  {
   "cell_type": "code",
   "execution_count": 4,
   "metadata": {},
   "outputs": [
    {
     "data": {
      "text/plain": [
       "2009"
      ]
     },
     "execution_count": 4,
     "metadata": {},
     "output_type": "execute_result"
    }
   ],
   "source": [
    "ano_minimo = ano_maximo - 10\n",
    "ano_minimo"
   ]
  },
  {
   "cell_type": "code",
   "execution_count": 5,
   "metadata": {},
   "outputs": [
    {
     "data": {
      "text/html": [
       "<div>\n",
       "<style scoped>\n",
       "    .dataframe tbody tr th:only-of-type {\n",
       "        vertical-align: middle;\n",
       "    }\n",
       "\n",
       "    .dataframe tbody tr th {\n",
       "        vertical-align: top;\n",
       "    }\n",
       "\n",
       "    .dataframe thead th {\n",
       "        text-align: right;\n",
       "    }\n",
       "</style>\n",
       "<table border=\"1\" class=\"dataframe\">\n",
       "  <thead>\n",
       "    <tr style=\"text-align: right;\">\n",
       "      <th></th>\n",
       "      <th>Year</th>\n",
       "      <th>Month</th>\n",
       "      <th>Tmax</th>\n",
       "      <th>Tmin</th>\n",
       "      <th>Rain</th>\n",
       "      <th>Sun</th>\n",
       "    </tr>\n",
       "  </thead>\n",
       "  <tbody>\n",
       "    <tr>\n",
       "      <th>624</th>\n",
       "      <td>2009</td>\n",
       "      <td>1</td>\n",
       "      <td>6.8</td>\n",
       "      <td>0.3</td>\n",
       "      <td>72.4</td>\n",
       "      <td>63.2</td>\n",
       "    </tr>\n",
       "    <tr>\n",
       "      <th>625</th>\n",
       "      <td>2009</td>\n",
       "      <td>2</td>\n",
       "      <td>7.8</td>\n",
       "      <td>2.1</td>\n",
       "      <td>69.6</td>\n",
       "      <td>59.2</td>\n",
       "    </tr>\n",
       "    <tr>\n",
       "      <th>626</th>\n",
       "      <td>2009</td>\n",
       "      <td>3</td>\n",
       "      <td>12.9</td>\n",
       "      <td>3.7</td>\n",
       "      <td>30.0</td>\n",
       "      <td>158.5</td>\n",
       "    </tr>\n",
       "    <tr>\n",
       "      <th>627</th>\n",
       "      <td>2009</td>\n",
       "      <td>4</td>\n",
       "      <td>16.1</td>\n",
       "      <td>7.2</td>\n",
       "      <td>28.0</td>\n",
       "      <td>172.8</td>\n",
       "    </tr>\n",
       "    <tr>\n",
       "      <th>628</th>\n",
       "      <td>2009</td>\n",
       "      <td>5</td>\n",
       "      <td>19.1</td>\n",
       "      <td>9.4</td>\n",
       "      <td>29.8</td>\n",
       "      <td>193.9</td>\n",
       "    </tr>\n",
       "    <tr>\n",
       "      <th>...</th>\n",
       "      <td>...</td>\n",
       "      <td>...</td>\n",
       "      <td>...</td>\n",
       "      <td>...</td>\n",
       "      <td>...</td>\n",
       "      <td>...</td>\n",
       "    </tr>\n",
       "    <tr>\n",
       "      <th>743</th>\n",
       "      <td>2018</td>\n",
       "      <td>12</td>\n",
       "      <td>10.7</td>\n",
       "      <td>5.2</td>\n",
       "      <td>60.6</td>\n",
       "      <td>40.3</td>\n",
       "    </tr>\n",
       "    <tr>\n",
       "      <th>744</th>\n",
       "      <td>2019</td>\n",
       "      <td>1</td>\n",
       "      <td>7.6</td>\n",
       "      <td>2.0</td>\n",
       "      <td>33.2</td>\n",
       "      <td>56.4</td>\n",
       "    </tr>\n",
       "    <tr>\n",
       "      <th>745</th>\n",
       "      <td>2019</td>\n",
       "      <td>2</td>\n",
       "      <td>12.4</td>\n",
       "      <td>3.3</td>\n",
       "      <td>34.2</td>\n",
       "      <td>120.2</td>\n",
       "    </tr>\n",
       "    <tr>\n",
       "      <th>746</th>\n",
       "      <td>2019</td>\n",
       "      <td>3</td>\n",
       "      <td>13.1</td>\n",
       "      <td>5.8</td>\n",
       "      <td>49.6</td>\n",
       "      <td>119.0</td>\n",
       "    </tr>\n",
       "    <tr>\n",
       "      <th>747</th>\n",
       "      <td>2019</td>\n",
       "      <td>4</td>\n",
       "      <td>15.8</td>\n",
       "      <td>5.7</td>\n",
       "      <td>12.8</td>\n",
       "      <td>170.1</td>\n",
       "    </tr>\n",
       "  </tbody>\n",
       "</table>\n",
       "<p>124 rows × 6 columns</p>\n",
       "</div>"
      ],
      "text/plain": [
       "     Year  Month  Tmax  Tmin  Rain    Sun\n",
       "624  2009      1   6.8   0.3  72.4   63.2\n",
       "625  2009      2   7.8   2.1  69.6   59.2\n",
       "626  2009      3  12.9   3.7  30.0  158.5\n",
       "627  2009      4  16.1   7.2  28.0  172.8\n",
       "628  2009      5  19.1   9.4  29.8  193.9\n",
       "..    ...    ...   ...   ...   ...    ...\n",
       "743  2018     12  10.7   5.2  60.6   40.3\n",
       "744  2019      1   7.6   2.0  33.2   56.4\n",
       "745  2019      2  12.4   3.3  34.2  120.2\n",
       "746  2019      3  13.1   5.8  49.6  119.0\n",
       "747  2019      4  15.8   5.7  12.8  170.1\n",
       "\n",
       "[124 rows x 6 columns]"
      ]
     },
     "execution_count": 5,
     "metadata": {},
     "output_type": "execute_result"
    }
   ],
   "source": [
    "df_ultimos_10_anos= df[df['Year']>= ano_minimo]\n",
    "df_ultimos_10_anos"
   ]
  },
  {
   "cell_type": "code",
   "execution_count": 7,
   "metadata": {},
   "outputs": [
    {
     "data": {
      "text/html": [
       "<div>\n",
       "<style scoped>\n",
       "    .dataframe tbody tr th:only-of-type {\n",
       "        vertical-align: middle;\n",
       "    }\n",
       "\n",
       "    .dataframe tbody tr th {\n",
       "        vertical-align: top;\n",
       "    }\n",
       "\n",
       "    .dataframe thead th {\n",
       "        text-align: right;\n",
       "    }\n",
       "</style>\n",
       "<table border=\"1\" class=\"dataframe\">\n",
       "  <thead>\n",
       "    <tr style=\"text-align: right;\">\n",
       "      <th></th>\n",
       "      <th>Year</th>\n",
       "      <th>Month</th>\n",
       "      <th>Tmax</th>\n",
       "      <th>Tmin</th>\n",
       "      <th>Rain</th>\n",
       "      <th>Sun</th>\n",
       "    </tr>\n",
       "  </thead>\n",
       "  <tbody>\n",
       "    <tr>\n",
       "      <th>624</th>\n",
       "      <td>2009</td>\n",
       "      <td>1</td>\n",
       "      <td>6.8</td>\n",
       "      <td>0.3</td>\n",
       "      <td>72.4</td>\n",
       "      <td>63.2</td>\n",
       "    </tr>\n",
       "    <tr>\n",
       "      <th>625</th>\n",
       "      <td>2009</td>\n",
       "      <td>2</td>\n",
       "      <td>7.8</td>\n",
       "      <td>2.1</td>\n",
       "      <td>69.6</td>\n",
       "      <td>59.2</td>\n",
       "    </tr>\n",
       "    <tr>\n",
       "      <th>626</th>\n",
       "      <td>2009</td>\n",
       "      <td>3</td>\n",
       "      <td>12.9</td>\n",
       "      <td>3.7</td>\n",
       "      <td>30.0</td>\n",
       "      <td>158.5</td>\n",
       "    </tr>\n",
       "    <tr>\n",
       "      <th>627</th>\n",
       "      <td>2009</td>\n",
       "      <td>4</td>\n",
       "      <td>16.1</td>\n",
       "      <td>7.2</td>\n",
       "      <td>28.0</td>\n",
       "      <td>172.8</td>\n",
       "    </tr>\n",
       "    <tr>\n",
       "      <th>628</th>\n",
       "      <td>2009</td>\n",
       "      <td>5</td>\n",
       "      <td>19.1</td>\n",
       "      <td>9.4</td>\n",
       "      <td>29.8</td>\n",
       "      <td>193.9</td>\n",
       "    </tr>\n",
       "    <tr>\n",
       "      <th>629</th>\n",
       "      <td>2009</td>\n",
       "      <td>6</td>\n",
       "      <td>22.4</td>\n",
       "      <td>12.2</td>\n",
       "      <td>34.0</td>\n",
       "      <td>192.8</td>\n",
       "    </tr>\n",
       "    <tr>\n",
       "      <th>630</th>\n",
       "      <td>2009</td>\n",
       "      <td>7</td>\n",
       "      <td>23.0</td>\n",
       "      <td>13.7</td>\n",
       "      <td>71.4</td>\n",
       "      <td>155.8</td>\n",
       "    </tr>\n",
       "    <tr>\n",
       "      <th>631</th>\n",
       "      <td>2009</td>\n",
       "      <td>8</td>\n",
       "      <td>23.9</td>\n",
       "      <td>14.1</td>\n",
       "      <td>39.6</td>\n",
       "      <td>167.6</td>\n",
       "    </tr>\n",
       "    <tr>\n",
       "      <th>632</th>\n",
       "      <td>2009</td>\n",
       "      <td>9</td>\n",
       "      <td>20.5</td>\n",
       "      <td>12.0</td>\n",
       "      <td>36.0</td>\n",
       "      <td>137.3</td>\n",
       "    </tr>\n",
       "    <tr>\n",
       "      <th>633</th>\n",
       "      <td>2009</td>\n",
       "      <td>10</td>\n",
       "      <td>16.3</td>\n",
       "      <td>9.3</td>\n",
       "      <td>39.4</td>\n",
       "      <td>84.7</td>\n",
       "    </tr>\n",
       "    <tr>\n",
       "      <th>634</th>\n",
       "      <td>2009</td>\n",
       "      <td>11</td>\n",
       "      <td>12.6</td>\n",
       "      <td>7.4</td>\n",
       "      <td>148.0</td>\n",
       "      <td>62.4</td>\n",
       "    </tr>\n",
       "    <tr>\n",
       "      <th>635</th>\n",
       "      <td>2009</td>\n",
       "      <td>12</td>\n",
       "      <td>7.0</td>\n",
       "      <td>1.3</td>\n",
       "      <td>84.6</td>\n",
       "      <td>60.3</td>\n",
       "    </tr>\n",
       "  </tbody>\n",
       "</table>\n",
       "</div>"
      ],
      "text/plain": [
       "     Year  Month  Tmax  Tmin   Rain    Sun\n",
       "624  2009      1   6.8   0.3   72.4   63.2\n",
       "625  2009      2   7.8   2.1   69.6   59.2\n",
       "626  2009      3  12.9   3.7   30.0  158.5\n",
       "627  2009      4  16.1   7.2   28.0  172.8\n",
       "628  2009      5  19.1   9.4   29.8  193.9\n",
       "629  2009      6  22.4  12.2   34.0  192.8\n",
       "630  2009      7  23.0  13.7   71.4  155.8\n",
       "631  2009      8  23.9  14.1   39.6  167.6\n",
       "632  2009      9  20.5  12.0   36.0  137.3\n",
       "633  2009     10  16.3   9.3   39.4   84.7\n",
       "634  2009     11  12.6   7.4  148.0   62.4\n",
       "635  2009     12   7.0   1.3   84.6   60.3"
      ]
     },
     "execution_count": 7,
     "metadata": {},
     "output_type": "execute_result"
    }
   ],
   "source": [
    "df_2009 = df[df['Year'] == ano_minimo]\n",
    "df_2009"
   ]
  },
  {
   "cell_type": "code",
   "execution_count": 10,
   "metadata": {},
   "outputs": [],
   "source": [
    "df_2009 = df[df['Year'] == ano_minimo]\n",
    "df_2010 = df[df['Year'] == 2010]\n",
    "df_2011 = df[df['Year'] == 2011]\n",
    "df_2012 = df[df['Year'] == 2012]\n",
    "df_2013 = df[df['Year'] == 2013]\n",
    "df_2014 = df[df['Year'] == 2014]\n",
    "df_2015 = df[df['Year'] == 2015]\n",
    "df_2016 = df[df['Year'] == 2016]\n",
    "df_2017 = df[df['Year'] == 2017]\n",
    "df_2018 = df[df['Year'] == 2018]\n",
    "df_2019 = df[df['Year'] == ano_maximo]"
   ]
  },
  {
   "attachments": {},
   "cell_type": "markdown",
   "metadata": {},
   "source": [
    "4.\tPlote um gráfico de séries \"sobreposto\" que permita avaliar a evolução das temperaturas máximas (Tmax) ao longo dos últimos 10 anos de dados registrados."
   ]
  },
  {
   "attachments": {},
   "cell_type": "markdown",
   "metadata": {},
   "source": [
    "4.1.\tPara cada ano, defina uma cor e um marcador diferente."
   ]
  },
  {
   "cell_type": "code",
   "execution_count": 12,
   "metadata": {},
   "outputs": [
    {
     "data": {
      "text/plain": [
       "624     1\n",
       "625     2\n",
       "626     3\n",
       "627     4\n",
       "628     5\n",
       "629     6\n",
       "630     7\n",
       "631     8\n",
       "632     9\n",
       "633    10\n",
       "634    11\n",
       "635    12\n",
       "Name: Month, dtype: int64"
      ]
     },
     "execution_count": 12,
     "metadata": {},
     "output_type": "execute_result"
    }
   ],
   "source": [
    "# Pegando a numeração dos meses avaliados\n",
    "meses = df[df['Year'] == 2009].Month\n",
    "meses"
   ]
  },
  {
   "cell_type": "code",
   "execution_count": 14,
   "metadata": {},
   "outputs": [],
   "source": [
    "# Pegando os dados de temperaturas TMax\n",
    "temperaturas_2009 = df[df['Year'] == 2009].Tmax\n",
    "temperaturas_2010 = df[df['Year'] == 2010].Tmax\n",
    "temperaturas_2011 = df[df['Year'] == 2011].Tmax\n",
    "temperaturas_2012 = df[df['Year'] == 2012].Tmax\n",
    "temperaturas_2013 = df[df['Year'] == 2013].Tmax\n",
    "temperaturas_2014 = df[df['Year'] == 2014].Tmax\n",
    "temperaturas_2015 = df[df['Year'] == 2015].Tmax\n",
    "temperaturas_2016 = df[df['Year'] == 2016].Tmax\n",
    "temperaturas_2017 = df[df['Year'] == 2017].Tmax\n",
    "temperaturas_2018 = df[df['Year'] == 2018].Tmax\n",
    "temperaturas_2019 = df[df['Year'] == 2019].Tmax"
   ]
  },
  {
   "cell_type": "code",
   "execution_count": 36,
   "metadata": {},
   "outputs": [
    {
     "data": {
      "text/plain": [
       "Text(0.5, 0, 'Meses')"
      ]
     },
     "execution_count": 36,
     "metadata": {},
     "output_type": "execute_result"
    },
    {
     "data": {
      "image/png": "[encoded data removed]",
      "text/plain": [
       "<Figure size 432x288 with 1 Axes>"
      ]
     },
     "metadata": {
      "needs_background": "light"
     },
     "output_type": "display_data"
    }
   ],
   "source": [
    "import matplotlib.pyplot as plt \n",
    "\n",
    "plt.plot(meses, temperaturas_2009, 'ro--',meses, temperaturas_2010, 'bh-.', meses, temperaturas_2011, 'g^:', meses, temperaturas_2012, 'y>-', meses, temperaturas_2013, 'r^:', meses, temperaturas_2014, 'bo--',  meses, temperaturas_2015, 'bo--', meses, temperaturas_2016, 'y>-', meses, temperaturas_2017, 'r^:', meses, temperaturas_2018, 'ro--'); #, meses, temperaturas_2019, 'b^:'\n",
    "plt.title(\"Temperatura durante o Ano de 2009\")\n",
    "plt.ylabel(\"Temperatura\")\n",
    "plt.xlabel(\"Meses\")"
   ]
  },
  {
   "attachments": {},
   "cell_type": "markdown",
   "metadata": {},
   "source": [
    "4.2.\tQual o comportamento você identifica quando visualiza esse gráfico?\n",
    "\n",
    "**A grande maioria dos anos possuem a máxima de temperatura no mês 7.**"
   ]
  },
  {
   "attachments": {},
   "cell_type": "markdown",
   "metadata": {},
   "source": [
    "4.2.1.\tExiste uma tendência de aumento ou diminuição da temperatura máxima?"
   ]
  },
  {
   "cell_type": "code",
   "execution_count": 42,
   "metadata": {},
   "outputs": [
    {
     "data": {
      "text/plain": [
       "[23.9, 25.0, 21.8, 23.5, 27.0, 25.8, 23.7, 24.7, 24.0, 28.3, 15.8]"
      ]
     },
     "execution_count": 42,
     "metadata": {},
     "output_type": "execute_result"
    }
   ],
   "source": [
    "Tmax = [temperaturas_2009.max(), temperaturas_2010.max(), temperaturas_2011.max(), temperaturas_2012.max(), temperaturas_2013.max(), temperaturas_2014.max(), temperaturas_2015.max(), temperaturas_2016.max(), temperaturas_2017.max(), temperaturas_2018.max(), temperaturas_2019.max()]\n",
    "Tmax"
   ]
  },
  {
   "attachments": {},
   "cell_type": "markdown",
   "metadata": {},
   "source": [
    "**Existe uma tendÊncia de aumento.**"
   ]
  },
  {
   "attachments": {},
   "cell_type": "markdown",
   "metadata": {},
   "source": [
    "4.2.2.\tObservando o gráfico é possível dizer que está ocorrendo um aquecimento da temperatura? (Sim/Não) Por que?"
   ]
  },
  {
   "attachments": {},
   "cell_type": "markdown",
   "metadata": {},
   "source": [
    "**Sim, pois há uma hierarquia de pontos no mês 7.**"
   ]
  },
  {
   "attachments": {},
   "cell_type": "markdown",
   "metadata": {},
   "source": [
    "\n",
    "\n",
    "\n",
    "\n",
    "\n",
    "\n",
    "\n",
    "\n",
    "\n",
    "4.2.3.\tQual mês e ano foi o mais quente no período em análise?"
   ]
  },
  {
   "attachments": {},
   "cell_type": "markdown",
   "metadata": {},
   "source": [
    "**O ano mais quente foi o de 2018 e o mês de maior temperatura foi o mês 7, referente a Julho.**"
   ]
  },
  {
   "cell_type": "code",
   "execution_count": 43,
   "metadata": {},
   "outputs": [
    {
     "data": {
      "text/plain": [
       "28.3"
      ]
     },
     "execution_count": 43,
     "metadata": {},
     "output_type": "execute_result"
    }
   ],
   "source": [
    "temperaturas_2018.max()"
   ]
  },
  {
   "cell_type": "code",
   "execution_count": 44,
   "metadata": {},
   "outputs": [
    {
     "data": {
      "text/plain": [
       "732     9.7\n",
       "733     6.7\n",
       "734     9.8\n",
       "735    15.5\n",
       "736    20.8\n",
       "737    24.2\n",
       "738    28.3\n",
       "739    24.5\n",
       "740    20.9\n",
       "741    16.5\n",
       "742    12.2\n",
       "743    10.7\n",
       "Name: Tmax, dtype: float64"
      ]
     },
     "execution_count": 44,
     "metadata": {},
     "output_type": "execute_result"
    }
   ],
   "source": [
    "temperaturas_2018"
   ]
  },
  {
   "cell_type": "code",
   "execution_count": 45,
   "metadata": {},
   "outputs": [
    {
     "data": {
      "text/plain": [
       "[<matplotlib.lines.Line2D at 0x2a38a435fd0>]"
      ]
     },
     "execution_count": 45,
     "metadata": {},
     "output_type": "execute_result"
    },
    {
     "data": {
      "image/png": "[encoded data removed]",
      "text/plain": [
       "<Figure size 432x288 with 1 Axes>"
      ]
     },
     "metadata": {
      "needs_background": "light"
     },
     "output_type": "display_data"
    }
   ],
   "source": [
    "import matplotlib.pyplot as plt \n",
    "\n",
    "plt.plot(meses, temperaturas_2018, 'ro--')"
   ]
  },
  {
   "cell_type": "code",
   "execution_count": null,
   "metadata": {},
   "outputs": [],
   "source": []
  }
 ],
 "metadata": {
  "kernelspec": {
   "display_name": "base",
   "language": "python",
   "name": "python3"
  },
  "language_info": {
   "codemirror_mode": {
    "name": "ipython",
    "version": 3
   },
   "file_extension": ".py",
   "mimetype": "text/x-python",
   "name": "python",
   "nbconvert_exporter": "python",
   "pygments_lexer": "ipython3",
   "version": "3.9.12"
  },
  "orig_nbformat": 4
 },
 "nbformat": 4,
 "nbformat_minor": 2
}
